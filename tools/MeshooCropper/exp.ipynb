{
 "cells": [
  {
   "cell_type": "code",
   "execution_count": 1,
   "metadata": {},
   "outputs": [],
   "source": [
    "from pdfrw import PdfReader, PdfWriter\n",
    "from utils import \\\n",
    "    check_status, \\\n",
    "    create_filedir, \\\n",
    "    check_input_file, \\\n",
    "    pdf_merger, \\\n",
    "    convert_pdf_to_string, \\\n",
    "    quantity_extract, \\\n",
    "    read_config, \\\n",
    "    extract_data, \\\n",
    "    pdf_whitespace, \\\n",
    "    pdf_cropper, \\\n",
    "    create_count_pdf\n",
    "import os\n",
    "import shutil"
   ]
  },
  {
   "cell_type": "code",
   "execution_count": 2,
   "metadata": {},
   "outputs": [
    {
     "name": "stdout",
     "output_type": "stream",
     "text": [
      "Merging all the PDF Files\n",
      "Merge Completed\n"
     ]
    }
   ],
   "source": [
    "check_status()\n",
    "create_filedir()\n",
    "all_pdf = check_input_file(\"input\")\n",
    "config = read_config()\n",
    "# merge pdf and remove blank pages\n",
    "print(\"Merging all the PDF Files\")\n",
    "pdf_merger(all_pdf)\n",
    "print(\"Merge Completed\")"
   ]
  },
  {
   "cell_type": "code",
   "execution_count": 3,
   "metadata": {},
   "outputs": [
    {
     "name": "stdout",
     "output_type": "stream",
     "text": [
      "Converting PDF to Text\n",
      "Conversion Completed\n",
      "Extracting Data\n"
     ]
    },
    {
     "name": "stderr",
     "output_type": "stream",
     "text": [
      "49it [00:00, 2218.68it/s]"
     ]
    },
    {
     "name": "stdout",
     "output_type": "stream",
     "text": [
      "Extraction Completed\n"
     ]
    },
    {
     "name": "stderr",
     "output_type": "stream",
     "text": [
      "\n"
     ]
    }
   ],
   "source": [
    "print(\"Converting PDF to Text\")\n",
    "all_page = convert_pdf_to_string(os.path.join(\"temp\", \"output.pdf\"))\n",
    "print(\"Conversion Completed\")\n",
    "\n",
    "print(\"Extracting Data\")\n",
    "df = extract_data(all_page)\n",
    "print(\"Extraction Completed\")"
   ]
  },
  {
   "cell_type": "code",
   "execution_count": 4,
   "metadata": {},
   "outputs": [
    {
     "data": {
      "text/plain": [
       "(49, 8)"
      ]
     },
     "execution_count": 4,
     "metadata": {},
     "output_type": "execute_result"
    }
   ],
   "source": [
    "df.shape"
   ]
  },
  {
   "cell_type": "code",
   "execution_count": 5,
   "metadata": {},
   "outputs": [
    {
     "data": {
      "text/plain": [
       "(49, 8)"
      ]
     },
     "execution_count": 5,
     "metadata": {},
     "output_type": "execute_result"
    }
   ],
   "source": [
    "sort_list = []\n",
    "ascending_list = []\n",
    "if config[\"sku_sort\"]:\n",
    "    sort_list.append(\"sku\")\n",
    "    ascending_list.append(False)\n",
    "\n",
    "if config[\"courier_sort\"]:\n",
    "    sort_list.append(\"courier\")\n",
    "    ascending_list.append(True)\n",
    "if config[\"soldBy_sort\"]:\n",
    "    sort_list.append(\"soldBy\")\n",
    "    ascending_list.append(True)\n",
    "\n",
    "# make sku lowercase\n",
    "df[\"sku\"] = df[\"sku\"].str.lower()\n",
    "df = df.sort_values(by=sort_list, ascending=ascending_list)\n",
    "df.shape"
   ]
  },
  {
   "cell_type": "code",
   "execution_count": 6,
   "metadata": {},
   "outputs": [],
   "source": [
    "true_rows = df[df[\"multi\"] == True]\n",
    "whole_data = df.copy(deep=True)\n",
    "df = df.drop(true_rows.index)\n",
    "reader_input = PdfReader(\"temp/output.pdf\")\n",
    "writer_output = PdfWriter()\n",
    "for page in df.page.values:\n",
    "    writer_output.addpage(reader_input.pages[page])\n",
    "writer_output.write(os.path.join(\"temp\", \"output_single.pdf\"))"
   ]
  },
  {
   "cell_type": "code",
   "execution_count": 7,
   "metadata": {},
   "outputs": [
    {
     "name": "stderr",
     "output_type": "stream",
     "text": [
      "100%|██████████| 49/49 [00:00<00:00, 49.75it/s]\n"
     ]
    }
   ],
   "source": [
    "single_path = pdf_whitespace(os.path.join(\"temp\", \"output_single.pdf\"))\n",
    "# rename whitespace pdf\n",
    "os.rename(single_path, single_path.replace(\"_whitespace.pdf\", \".pdf\"))\n",
    "single_path = single_path.replace(\"_whitespace.pdf\", \".pdf\")"
   ]
  },
  {
   "cell_type": "code",
   "execution_count": 8,
   "metadata": {},
   "outputs": [
    {
     "name": "stderr",
     "output_type": "stream",
     "text": [
      "  0%|          | 0/49 [00:00<?, ?it/s]"
     ]
    },
    {
     "name": "stderr",
     "output_type": "stream",
     "text": [
      "100%|██████████| 49/49 [00:00<00:00, 327.44it/s]\n"
     ]
    }
   ],
   "source": [
    "pdf_cropper(single_path, config)"
   ]
  },
  {
   "cell_type": "code",
   "execution_count": 9,
   "metadata": {},
   "outputs": [],
   "source": [
    "if len(true_rows) != 0:\n",
    "    writer_output = PdfWriter()\n",
    "    for page in true_rows.page.values:\n",
    "        writer_output.addpage(reader_input.pages[page])\n",
    "    writer_output.write(os.path.join(\"temp\", \"output_multi.pdf\"))\n",
    "    multi_path = pdf_whitespace(os.path.join(\"temp\", \"output_multi.pdf\"))\n",
    "    pdf_cropper(multi_path, config)"
   ]
  },
  {
   "cell_type": "code",
   "execution_count": 10,
   "metadata": {},
   "outputs": [],
   "source": [
    "if len(true_rows) == 0:\n",
    "    shutil.move(os.path.join(\"temp\", \"output_single.pdf\"), os.path.join(\"output\", \"result.pdf\"))"
   ]
  }
 ],
 "metadata": {
  "kernelspec": {
   "display_name": "venv",
   "language": "python",
   "name": "python3"
  },
  "language_info": {
   "codemirror_mode": {
    "name": "ipython",
    "version": 3
   },
   "file_extension": ".py",
   "mimetype": "text/x-python",
   "name": "python",
   "nbconvert_exporter": "python",
   "pygments_lexer": "ipython3",
   "version": "3.9.9"
  }
 },
 "nbformat": 4,
 "nbformat_minor": 2
}
