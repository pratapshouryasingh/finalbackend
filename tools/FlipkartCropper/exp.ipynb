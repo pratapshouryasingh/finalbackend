{
 "cells": [
  {
   "cell_type": "code",
   "execution_count": 1,
   "metadata": {},
   "outputs": [],
   "source": [
    "import requests\n",
    "import json\n",
    "import sys\n",
    "import shutil\n",
    "import os\n",
    "from pdfrw import PdfReader, PdfWriter\n",
    "from pdfminer.converter import TextConverter\n",
    "from pdfminer.layout import LAParams\n",
    "from pdfminer.pdfdocument import PDFDocument\n",
    "from pdfminer.pdfinterp import PDFResourceManager, PDFPageInterpreter\n",
    "from pdfminer.pdfpage import PDFPage\n",
    "from pdfminer.pdfparser import PDFParser\n",
    "from io import StringIO\n",
    "import re\n",
    "import pandas as pd\n",
    "from tqdm import tqdm\n",
    "import fitz\n",
    "from datetime import datetime\n",
    "from pretty_html_table import build_table\n",
    "import pdfkit"
   ]
  },
  {
   "cell_type": "code",
   "execution_count": 2,
   "metadata": {},
   "outputs": [],
   "source": [
    "from pdfrw import PdfReader, PdfWriter\n",
    "import os\n",
    "import shutil\n",
    "from utils import \\\n",
    "    check_status, \\\n",
    "    create_filedir, \\\n",
    "    check_input_file, \\\n",
    "    pdf_merger, \\\n",
    "    read_config, \\\n",
    "    convert_pdf_to_string"
   ]
  },
  {
   "cell_type": "code",
   "execution_count": 3,
   "metadata": {},
   "outputs": [],
   "source": [
    "check_status()\n",
    "create_filedir()"
   ]
  },
  {
   "cell_type": "code",
   "execution_count": null,
   "metadata": {},
   "outputs": [],
   "source": [
    "all_pdf = check_input_file(\"input\")\n",
    "config = read_config()\n",
    "# merge pdf and remove blank pages\n",
    "print(\"Merging all the PDF Files\")\n",
    "pdf_merger(all_pdf)\n",
    "print(\"Merge Completed\")"
   ]
  },
  {
   "cell_type": "code",
   "execution_count": null,
   "metadata": {},
   "outputs": [],
   "source": [
    "print(\"Converting PDF to Text\")\n",
    "all_page = convert_pdf_to_string(os.path.join(\"temp\", \"output.pdf\"))\n",
    "print(\"Conversion Completed\")"
   ]
  },
  {
   "cell_type": "code",
   "execution_count": 19,
   "metadata": {},
   "outputs": [],
   "source": [
    "def sku_extract(page):\n",
    "    page = re.sub(r\"[\\x00-\\x08\\x0b\\x0c\\x0e-\\x1f\\x7f-\\xff]\", \"\", page)\n",
    "    page = page.split(\"\\n\")\n",
    "    all_pipe = [x for x in page if \"|\" in x]\n",
    "    try:\n",
    "        skus = [x for x in all_pipe if x[0].isnumeric()]\n",
    "    except:\n",
    "        return 0\n",
    "    sku = skus[0].split(\" \", 1)\n",
    "    return sku[1], len(skus) > 1\n"
   ]
  },
  {
   "cell_type": "code",
   "execution_count": 20,
   "metadata": {},
   "outputs": [],
   "source": [
    "def quantity_extract(page):\n",
    "    page = re.sub(r\"[\\x00-\\x08\\x0b\\x0c\\x0e-\\x1f\\x7f-\\xff]\", \"\", page)\n",
    "    page = page.split(\"\\n\")\n",
    "    qty_idx = [x for x in range(len(page)) if \"QTY\" in page[x]][0]\n",
    "    qtys = []\n",
    "    while True:\n",
    "        qty_idx += 1\n",
    "        if len(page[qty_idx]) > 5:\n",
    "            break\n",
    "        if len(page[qty_idx]) == 0:\n",
    "            continue\n",
    "        if page[qty_idx].isnumeric():\n",
    "            qtys.append(int(page[qty_idx]))\n",
    "    return sum(qtys), len(qtys) > 1"
   ]
  },
  {
   "cell_type": "code",
   "execution_count": 21,
   "metadata": {},
   "outputs": [],
   "source": [
    "def courier_extract(page):\n",
    "    page = re.sub(r\"[\\x00-\\x08\\x0b\\x0c\\x0e-\\x1f\\x7f-\\xff]\", \"\", page)\n",
    "    page = page.split(\"\\n\")\n",
    "    try:\n",
    "        return page[2].strip()\n",
    "    except:\n",
    "        return \"\"\n"
   ]
  },
  {
   "cell_type": "code",
   "execution_count": 27,
   "metadata": {},
   "outputs": [],
   "source": [
    "def soldBy_extract(page):\n",
    "    page = re.sub(r\"[\\x00-\\x08\\x0b\\x0c\\x0e-\\x1f\\x7f-\\xff]\", \"\", page)\n",
    "    page = page.split(\"\\n\")\n",
    "    try:\n",
    "        soldby_idx = [x for x in range(len(page)) if \"Sold By:\" in page[x]][0]\n",
    "        return page[soldby_idx].replace(\"Sold By:\", \"\").strip().split(\",\", 1)[0]\n",
    "    except:\n",
    "        return \"\"\n"
   ]
  },
  {
   "cell_type": "code",
   "execution_count": 32,
   "metadata": {},
   "outputs": [],
   "source": [
    "pdf_path = \"input/Flipkart-Labels-19-Dec-2024-10-52.pdf\"\n",
    "now = datetime.now()\n",
    "formatted_datetime = now.strftime(\"%d-%m-%y %I:%M %p\")\n",
    "main = fitz.open(pdf_path)\n",
    "invoice = fitz.open(pdf_path)\n",
    "result = fitz.open()\n",
    "page = main[0]\n",
    "invoice_page = invoice[0]\n",
    "text_instances = page.search_for(\"Order Id:\")[0]\n",
    "page_crop_rect = fitz.Rect(185, 15, page.rect.width-185, text_instances.y0 - 10)\n",
    "page.set_cropbox(page_crop_rect)\n",
    "p = fitz.Point(12, 10)\n",
    "page.insert_text(p, formatted_datetime, fontsize=11, rotate=0)\n",
    "text_instances_tax_invoice = invoice_page.search_for(\"Order Id:\")\n",
    "tax_invoice_pos = text_instances_tax_invoice[0].y1\n",
    "text_instances_online_payment = invoice_page.search_for(\"Authorized Signature\")\n",
    "online_payment_pos = text_instances_online_payment[0].y0\n",
    "page_crop_rect = fitz.Rect(\n",
    "    0,\n",
    "    tax_invoice_pos - 18,\n",
    "    invoice_page.rect.width,\n",
    "    online_payment_pos + 20,\n",
    ")\n",
    "invoice_page.set_cropbox(page_crop_rect)\n",
    "result.insert_pdf(invoice, from_page=0, to_page=0, start_at=0)\n",
    "result.insert_pdf(main, from_page=0, to_page=0, start_at=0)\n",
    "result.save(\"output/result.pdf\")"
   ]
  },
  {
   "cell_type": "code",
   "execution_count": 2,
   "metadata": {},
   "outputs": [
    {
     "name": "stderr",
     "output_type": "stream",
     "text": [
      "100%|██████████| 1/1 [00:00<00:00, 27.23it/s]\n"
     ]
    }
   ],
   "source": [
    "from utilsv2 import pdf_cropper, read_config\n",
    "pdf_cropper(\"temp/output_multi.pdf\", read_config())"
   ]
  },
  {
   "cell_type": "code",
   "execution_count": 9,
   "metadata": {},
   "outputs": [],
   "source": [
    "from utilsv2 import read_config\n",
    "config = read_config()"
   ]
  },
  {
   "cell_type": "code",
   "execution_count": 14,
   "metadata": {},
   "outputs": [],
   "source": []
  },
  {
   "cell_type": "code",
   "execution_count": 15,
   "metadata": {},
   "outputs": [],
   "source": []
  },
  {
   "cell_type": "code",
   "execution_count": null,
   "metadata": {},
   "outputs": [],
   "source": []
  }
 ],
 "metadata": {
  "kernelspec": {
   "display_name": "Python 3",
   "language": "python",
   "name": "python3"
  },
  "language_info": {
   "codemirror_mode": {
    "name": "ipython",
    "version": 3
   },
   "file_extension": ".py",
   "mimetype": "text/x-python",
   "name": "python",
   "nbconvert_exporter": "python",
   "pygments_lexer": "ipython3",
   "version": "3.12.8"
  }
 },
 "nbformat": 4,
 "nbformat_minor": 2
}
